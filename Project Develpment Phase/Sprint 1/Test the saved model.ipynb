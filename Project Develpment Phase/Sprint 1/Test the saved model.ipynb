{
 "cells": [
  {
   "cell_type": "markdown",
   "id": "5782b487",
   "metadata": {},
   "source": [
    "# Test the saved model"
   ]
  },
  {
   "cell_type": "code",
   "execution_count": 1,
   "id": "eba9bc88",
   "metadata": {},
   "outputs": [
    {
     "name": "stdout",
     "output_type": "stream",
     "text": [
      "1/1 [==============================] - 1s 909ms/step\n",
      "[[1.3962134e-03 1.8219129e-06 9.0213298e-06 1.0535612e-07 9.9835484e-10\n",
      "  3.1783723e-10 9.9856889e-01 2.0968941e-05 2.7714539e-06 1.6252459e-07]]\n",
      "1/1 [==============================] - 0s 135ms/step\n",
      "[[1.3962134e-03 1.8219129e-06 9.0213298e-06 1.0535612e-07 9.9835484e-10\n",
      "  3.1783723e-10 9.9856889e-01 2.0968941e-05 2.7714539e-06 1.6252459e-07]]\n",
      "1/1 [==============================] - 0s 162ms/step\n",
      "[[1.3962134e-03 1.8219129e-06 9.0213298e-06 1.0535612e-07 9.9835484e-10\n",
      "  3.1783723e-10 9.9856889e-01 2.0968941e-05 2.7714539e-06 1.6252459e-07]]\n",
      "1/1 [==============================] - 0s 90ms/step\n",
      "[[1.3962134e-03 1.8219129e-06 9.0213298e-06 1.0535612e-07 9.9835484e-10\n",
      "  3.1783723e-10 9.9856889e-01 2.0968941e-05 2.7714539e-06 1.6252459e-07]]\n"
     ]
    }
   ],
   "source": [
    "from tensorflow.keras.models import load_model\n",
    "from PIL import Image\n",
    "import numpy as np\n",
    "model = load_model(r'D:\\HANDWRITTEN DIGIT RECOGNITION\\PROJECT DEVELOPMENT PHASE\\SPRINT 1\\models\\mnistCNN.h5')\n",
    "for index in range(4):\n",
    "                   img=Image.open(r'D:\\HANDWRITTEN DIGIT RECOGNITION\\PROJECT DEVELOPMENT PHASE\\SPRINT 1\\models\\data.png').convert(\"L\")\n",
    "                   img=img.resize((28,28))\n",
    "                   im2arr=np.array(img)\n",
    "                   im2arr=im2arr.reshape(1,28,28,1)\n",
    "                   y_pred=model.predict(im2arr)\n",
    "                   print(y_pred)                                                                   \n",
    "                   "
   ]
  },
  {
   "cell_type": "code",
   "execution_count": 2,
   "id": "a8ee664f",
   "metadata": {},
   "outputs": [
    {
     "name": "stdout",
     "output_type": "stream",
     "text": [
      "[6]\n"
     ]
    }
   ],
   "source": [
    "import numpy as np\n",
    "print(np.argmax(y_pred, axis=1))"
   ]
  }
 ],
 "metadata": {
  "kernelspec": {
   "display_name": "Python 3 (ipykernel)",
   "language": "python",
   "name": "python3"
  },
  "language_info": {
   "codemirror_mode": {
    "name": "ipython",
    "version": 3
   },
   "file_extension": ".py",
   "mimetype": "text/x-python",
   "name": "python",
   "nbconvert_exporter": "python",
   "pygments_lexer": "ipython3",
   "version": "3.9.12"
  }
 },
 "nbformat": 4,
 "nbformat_minor": 5
}
